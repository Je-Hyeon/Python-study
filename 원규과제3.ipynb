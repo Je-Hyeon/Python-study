{
 "cells": [
  {
   "cell_type": "code",
   "execution_count": 2,
   "metadata": {},
   "outputs": [],
   "source": [
    "class Graph():\n",
    "    def __init__(self, size):\n",
    "        self.SIZE = size\n",
    "        self.graph = [[0 for _ in range(size)] for _ in range(size)]\n",
    "\n",
    "G1 = Graph(6)\n",
    "\n",
    "# AB\n",
    "G1.graph[0][1] = 1 \n",
    "G1.graph[1][0] = 1\n",
    "\n",
    "# BD\n",
    "G1.graph[1][3] = 1\n",
    "G1.graph[3][1] = 1\n",
    "\n",
    "#AD\n",
    "G1.graph[0][3] = 1\n",
    "G1.graph[3][0] = 1\n",
    "\n",
    "#AE\n",
    "G1.graph[0][4] = 1\n",
    "G1.graph[4][0] = 1\n",
    "\n",
    "#ED\n",
    "G1.graph[4][3] = 1\n",
    "G1.graph[3][4] = 1\n",
    "\n",
    "#BF\n",
    "G1.graph[1][5] = 1\n",
    "G1.graph[5][1] = 1\n",
    "\n",
    "#DF\n",
    "G1.graph[3][5] = 1\n",
    "G1.graph[5][3] = 1\n",
    "\n",
    "#EC\n",
    "G1.graph[2][4] = 1\n",
    "G1.graph[4][2] = 1\n",
    "\n",
    "#DC\n",
    "G1.graph[2][3] = 1\n",
    "G1.graph[3][2] = 1\n",
    "\n",
    "#FC\n",
    "G1.graph[5][2] = 1\n",
    "G1.graph[2][5] = 1"
   ]
  }
 ],
 "metadata": {
  "kernelspec": {
   "display_name": "Python 3.10.0 64-bit",
   "language": "python",
   "name": "python3"
  },
  "language_info": {
   "codemirror_mode": {
    "name": "ipython",
    "version": 3
   },
   "file_extension": ".py",
   "mimetype": "text/x-python",
   "name": "python",
   "nbconvert_exporter": "python",
   "pygments_lexer": "ipython3",
   "version": "3.10.0"
  },
  "orig_nbformat": 4,
  "vscode": {
   "interpreter": {
    "hash": "146e877987a5ca10c5ba40ec3e7a25002bcba56c71dc1c36e6a7a19a2012e1b9"
   }
  }
 },
 "nbformat": 4,
 "nbformat_minor": 2
}
